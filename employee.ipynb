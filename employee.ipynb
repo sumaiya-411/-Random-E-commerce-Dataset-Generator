{
 "cells": [
  {
   "cell_type": "code",
   "execution_count": 1,
   "id": "781bd684-5ccd-4049-ab0d-80af3e808a49",
   "metadata": {},
   "outputs": [
    {
     "ename": "IntegrityError",
     "evalue": "UNIQUE constraint failed: employees.employee_id",
     "output_type": "error",
     "traceback": [
      "\u001b[1;31m---------------------------------------------------------------------------\u001b[0m",
      "\u001b[1;31mIntegrityError\u001b[0m                            Traceback (most recent call last)",
      "Cell \u001b[1;32mIn[1], line 19\u001b[0m\n\u001b[0;32m      8\u001b[0m cursor\u001b[38;5;241m.\u001b[39mexecute(\u001b[38;5;124m'''\u001b[39m\n\u001b[0;32m      9\u001b[0m \u001b[38;5;124mCREATE TABLE IF NOT EXISTS employees (\u001b[39m\n\u001b[0;32m     10\u001b[0m \u001b[38;5;124m    employee_id INTEGER PRIMARY KEY,\u001b[39m\n\u001b[1;32m   (...)\u001b[0m\n\u001b[0;32m     15\u001b[0m \u001b[38;5;124m)\u001b[39m\n\u001b[0;32m     16\u001b[0m \u001b[38;5;124m'''\u001b[39m)\n\u001b[0;32m     18\u001b[0m \u001b[38;5;66;03m# Insert sample data into the 'employees' table (you can skip this if data already exists)\u001b[39;00m\n\u001b[1;32m---> 19\u001b[0m cursor\u001b[38;5;241m.\u001b[39mexecutemany(\u001b[38;5;124m'''\u001b[39m\n\u001b[0;32m     20\u001b[0m \u001b[38;5;124mINSERT INTO employees (employee_id, first_name, last_name, salary, department_id)\u001b[39m\n\u001b[0;32m     21\u001b[0m \u001b[38;5;124mVALUES (?, ?, ?, ?, ?)\u001b[39m\n\u001b[0;32m     22\u001b[0m \u001b[38;5;124m'''\u001b[39m, [\n\u001b[0;32m     23\u001b[0m     (\u001b[38;5;241m1\u001b[39m, \u001b[38;5;124m'\u001b[39m\u001b[38;5;124mJohn\u001b[39m\u001b[38;5;124m'\u001b[39m, \u001b[38;5;124m'\u001b[39m\u001b[38;5;124mDoe\u001b[39m\u001b[38;5;124m'\u001b[39m, \u001b[38;5;241m50000\u001b[39m, \u001b[38;5;241m1\u001b[39m),\n\u001b[0;32m     24\u001b[0m     (\u001b[38;5;241m2\u001b[39m, \u001b[38;5;124m'\u001b[39m\u001b[38;5;124mJane\u001b[39m\u001b[38;5;124m'\u001b[39m, \u001b[38;5;124m'\u001b[39m\u001b[38;5;124mSmith\u001b[39m\u001b[38;5;124m'\u001b[39m, \u001b[38;5;241m60000\u001b[39m, \u001b[38;5;241m1\u001b[39m),\n\u001b[0;32m     25\u001b[0m     (\u001b[38;5;241m3\u001b[39m, \u001b[38;5;124m'\u001b[39m\u001b[38;5;124mAlice\u001b[39m\u001b[38;5;124m'\u001b[39m, \u001b[38;5;124m'\u001b[39m\u001b[38;5;124mJohnson\u001b[39m\u001b[38;5;124m'\u001b[39m, \u001b[38;5;241m55000\u001b[39m, \u001b[38;5;241m2\u001b[39m),\n\u001b[0;32m     26\u001b[0m     (\u001b[38;5;241m4\u001b[39m, \u001b[38;5;124m'\u001b[39m\u001b[38;5;124mBob\u001b[39m\u001b[38;5;124m'\u001b[39m, \u001b[38;5;124m'\u001b[39m\u001b[38;5;124mDavis\u001b[39m\u001b[38;5;124m'\u001b[39m, \u001b[38;5;241m45000\u001b[39m, \u001b[38;5;241m2\u001b[39m),\n\u001b[0;32m     27\u001b[0m     (\u001b[38;5;241m5\u001b[39m, \u001b[38;5;124m'\u001b[39m\u001b[38;5;124mCharlie\u001b[39m\u001b[38;5;124m'\u001b[39m, \u001b[38;5;124m'\u001b[39m\u001b[38;5;124mWilson\u001b[39m\u001b[38;5;124m'\u001b[39m, \u001b[38;5;241m70000\u001b[39m, \u001b[38;5;241m3\u001b[39m)\n\u001b[0;32m     28\u001b[0m ])\n\u001b[0;32m     30\u001b[0m \u001b[38;5;66;03m# Commit the changes\u001b[39;00m\n\u001b[0;32m     31\u001b[0m conn\u001b[38;5;241m.\u001b[39mcommit()\n",
      "\u001b[1;31mIntegrityError\u001b[0m: UNIQUE constraint failed: employees.employee_id"
     ]
    }
   ],
   "source": [
    "import sqlite3\n",
    "\n",
    "# Create a connection to the SQLite database (it will create the file if it doesn't exist)\n",
    "conn = sqlite3.connect('my_database.db')\n",
    "cursor = conn.cursor()\n",
    "\n",
    "# Create the 'employees' table if it doesn't exist\n",
    "cursor.execute('''\n",
    "CREATE TABLE IF NOT EXISTS employees (\n",
    "    employee_id INTEGER PRIMARY KEY,\n",
    "    first_name TEXT,\n",
    "    last_name TEXT,\n",
    "    salary INTEGER,\n",
    "    department_id INTEGER\n",
    ")\n",
    "''')\n",
    "\n",
    "# Insert sample data into the 'employees' table (you can skip this if data already exists)\n",
    "cursor.executemany('''\n",
    "INSERT INTO employees (employee_id, first_name, last_name, salary, department_id)\n",
    "VALUES (?, ?, ?, ?, ?)\n",
    "''', [\n",
    "    (1, 'John', 'Doe', 50000, 1),\n",
    "    (2, 'Jane', 'Smith', 60000, 1),\n",
    "    (3, 'Alice', 'Johnson', 55000, 2),\n",
    "    (4, 'Bob', 'Davis', 45000, 2),\n",
    "    (5, 'Charlie', 'Wilson', 70000, 3)\n",
    "])\n",
    "\n",
    "# Commit the changes\n",
    "conn.commit()\n",
    "\n",
    "# Now run the SQL query\n",
    "query = '''\n",
    "SELECT e.employee_id, e.first_name, e.last_name, e.salary, e.department_id\n",
    "FROM employees e\n",
    "WHERE e.salary > (\n",
    "  SELECT AVG(salary)\n",
    "  FROM employees\n",
    "  WHERE department_id = e.department_id\n",
    ")\n",
    "'''\n",
    "\n",
    "# Execute the query and fetch all results\n",
    "result = cursor.execute(query).fetchall()\n",
    "\n",
    "# Print the result\n",
    "for row in result:\n",
    "    print(row)\n",
    "\n",
    "# Close the connection\n",
    "conn.close()\n"
   ]
  },
  {
   "cell_type": "code",
   "execution_count": 2,
   "id": "c9be2cda-961f-445c-a5a8-eb1e5ccd9684",
   "metadata": {},
   "outputs": [],
   "source": [
    "# Delete all existing data from the employees table\n",
    "cursor.execute('DELETE FROM employees')\n",
    "conn.commit()\n"
   ]
  },
  {
   "cell_type": "code",
   "execution_count": 3,
   "id": "b1780fea-6e01-4910-b530-ff403579e0df",
   "metadata": {},
   "outputs": [
    {
     "name": "stdout",
     "output_type": "stream",
     "text": [
      "(2, 'Jane', 'Smith', 60000, 1)\n",
      "(3, 'Alice', 'Johnson', 55000, 2)\n"
     ]
    }
   ],
   "source": [
    "import sqlite3\n",
    "\n",
    "# Create a connection to the SQLite database (it will create the file if it doesn't exist)\n",
    "conn = sqlite3.connect('my_database.db')\n",
    "cursor = conn.cursor()\n",
    "\n",
    "# Create the 'employees' table if it doesn't exist\n",
    "cursor.execute('''\n",
    "CREATE TABLE IF NOT EXISTS employees (\n",
    "    employee_id INTEGER PRIMARY KEY,\n",
    "    first_name TEXT,\n",
    "    last_name TEXT,\n",
    "    salary INTEGER,\n",
    "    department_id INTEGER\n",
    ")\n",
    "''')\n",
    "\n",
    "# Clear existing data from the employees table (optional, only if needed)\n",
    "cursor.execute('DELETE FROM employees')\n",
    "conn.commit()\n",
    "\n",
    "# Insert sample data into the 'employees' table (you can skip this if data already exists)\n",
    "cursor.executemany('''\n",
    "INSERT INTO employees (employee_id, first_name, last_name, salary, department_id)\n",
    "VALUES (?, ?, ?, ?, ?)\n",
    "''', [\n",
    "    (1, 'John', 'Doe', 50000, 1),\n",
    "    (2, 'Jane', 'Smith', 60000, 1),\n",
    "    (3, 'Alice', 'Johnson', 55000, 2),\n",
    "    (4, 'Bob', 'Davis', 45000, 2),\n",
    "    (5, 'Charlie', 'Wilson', 70000, 3)\n",
    "])\n",
    "\n",
    "# Commit the changes\n",
    "conn.commit()\n",
    "\n",
    "# Now run the SQL query\n",
    "query = '''\n",
    "SELECT e.employee_id, e.first_name, e.last_name, e.salary, e.department_id\n",
    "FROM employees e\n",
    "WHERE e.salary > (\n",
    "  SELECT AVG(salary)\n",
    "  FROM employees\n",
    "  WHERE department_id = e.department_id\n",
    ")\n",
    "'''\n",
    "\n",
    "# Execute the query and fetch all results\n",
    "result = cursor.execute(query).fetchall()\n",
    "\n",
    "# Print the result\n",
    "for row in result:\n",
    "    print(row)\n",
    "\n",
    "# Close the connection\n",
    "conn.close()\n"
   ]
  },
  {
   "cell_type": "code",
   "execution_count": 4,
   "id": "d7cbcb0a-cf43-4f13-a0e3-835328f1aa8e",
   "metadata": {},
   "outputs": [
    {
     "ename": "ProgrammingError",
     "evalue": "Cannot operate on a closed database.",
     "output_type": "error",
     "traceback": [
      "\u001b[1;31m---------------------------------------------------------------------------\u001b[0m",
      "\u001b[1;31mProgrammingError\u001b[0m                          Traceback (most recent call last)",
      "Cell \u001b[1;32mIn[4], line 1\u001b[0m\n\u001b[1;32m----> 1\u001b[0m cursor\u001b[38;5;241m.\u001b[39mexecutemany(\u001b[38;5;124m'''\u001b[39m\n\u001b[0;32m      2\u001b[0m \u001b[38;5;124mINSERT OR REPLACE INTO employees (employee_id, first_name, last_name, salary, department_id)\u001b[39m\n\u001b[0;32m      3\u001b[0m \u001b[38;5;124mVALUES (?, ?, ?, ?, ?)\u001b[39m\n\u001b[0;32m      4\u001b[0m \u001b[38;5;124m'''\u001b[39m, [\n\u001b[0;32m      5\u001b[0m     (\u001b[38;5;241m1\u001b[39m, \u001b[38;5;124m'\u001b[39m\u001b[38;5;124mJohn\u001b[39m\u001b[38;5;124m'\u001b[39m, \u001b[38;5;124m'\u001b[39m\u001b[38;5;124mDoe\u001b[39m\u001b[38;5;124m'\u001b[39m, \u001b[38;5;241m50000\u001b[39m, \u001b[38;5;241m1\u001b[39m),\n\u001b[0;32m      6\u001b[0m     (\u001b[38;5;241m2\u001b[39m, \u001b[38;5;124m'\u001b[39m\u001b[38;5;124mJane\u001b[39m\u001b[38;5;124m'\u001b[39m, \u001b[38;5;124m'\u001b[39m\u001b[38;5;124mSmith\u001b[39m\u001b[38;5;124m'\u001b[39m, \u001b[38;5;241m60000\u001b[39m, \u001b[38;5;241m1\u001b[39m),\n\u001b[0;32m      7\u001b[0m     (\u001b[38;5;241m3\u001b[39m, \u001b[38;5;124m'\u001b[39m\u001b[38;5;124mAlice\u001b[39m\u001b[38;5;124m'\u001b[39m, \u001b[38;5;124m'\u001b[39m\u001b[38;5;124mJohnson\u001b[39m\u001b[38;5;124m'\u001b[39m, \u001b[38;5;241m55000\u001b[39m, \u001b[38;5;241m2\u001b[39m),\n\u001b[0;32m      8\u001b[0m     (\u001b[38;5;241m4\u001b[39m, \u001b[38;5;124m'\u001b[39m\u001b[38;5;124mBob\u001b[39m\u001b[38;5;124m'\u001b[39m, \u001b[38;5;124m'\u001b[39m\u001b[38;5;124mDavis\u001b[39m\u001b[38;5;124m'\u001b[39m, \u001b[38;5;241m45000\u001b[39m, \u001b[38;5;241m2\u001b[39m),\n\u001b[0;32m      9\u001b[0m     (\u001b[38;5;241m5\u001b[39m, \u001b[38;5;124m'\u001b[39m\u001b[38;5;124mCharlie\u001b[39m\u001b[38;5;124m'\u001b[39m, \u001b[38;5;124m'\u001b[39m\u001b[38;5;124mWilson\u001b[39m\u001b[38;5;124m'\u001b[39m, \u001b[38;5;241m70000\u001b[39m, \u001b[38;5;241m3\u001b[39m)\n\u001b[0;32m     10\u001b[0m ])\n",
      "\u001b[1;31mProgrammingError\u001b[0m: Cannot operate on a closed database."
     ]
    }
   ],
   "source": [
    "cursor.executemany('''\n",
    "INSERT OR REPLACE INTO employees (employee_id, first_name, last_name, salary, department_id)\n",
    "VALUES (?, ?, ?, ?, ?)\n",
    "''', [\n",
    "    (1, 'John', 'Doe', 50000, 1),\n",
    "    (2, 'Jane', 'Smith', 60000, 1),\n",
    "    (3, 'Alice', 'Johnson', 55000, 2),\n",
    "    (4, 'Bob', 'Davis', 45000, 2),\n",
    "    (5, 'Charlie', 'Wilson', 70000, 3)\n",
    "])\n"
   ]
  },
  {
   "cell_type": "code",
   "execution_count": 8,
   "id": "be3a457a-3287-4fd6-912f-19068a907d82",
   "metadata": {},
   "outputs": [
    {
     "name": "stdout",
     "output_type": "stream",
     "text": [
      "(2, 'Jane', 'Smith', 60000, 1)\n",
      "(3, 'Alice', 'Johnson', 55000, 2)\n"
     ]
    }
   ],
   "source": [
    "import sqlite3\n",
    "\n",
    "# Create a connection to the SQLite database (it will create the file if it doesn't exist)\n",
    "conn = sqlite3.connect('my_database.db')\n",
    "cursor = conn.cursor()\n",
    "\n",
    "# Create the 'employees' table if it doesn't exist\n",
    "cursor.execute('''\n",
    "CREATE TABLE IF NOT EXISTS employees (\n",
    "    employee_id INTEGER PRIMARY KEY,\n",
    "    first_name TEXT,\n",
    "    last_name TEXT,\n",
    "    salary INTEGER,\n",
    "    department_id INTEGER\n",
    ")\n",
    "''')\n",
    "\n",
    "# Clear existing data from the employees table (optional, only if needed)\n",
    "cursor.execute('DELETE FROM employees')\n",
    "conn.commit()\n",
    "\n",
    "# Insert sample data into the 'employees' table (you can skip this if data already exists)\n",
    "cursor.executemany('''\n",
    "INSERT OR REPLACE INTO employees (employee_id, first_name, last_name, salary, department_id)\n",
    "VALUES (?, ?, ?, ?, ?)\n",
    "''', [\n",
    "    (1, 'John', 'Doe', 50000, 1),\n",
    "    (2, 'Jane', 'Smith', 60000, 1),\n",
    "    (3, 'Alice', 'Johnson', 55000, 2),\n",
    "    (4, 'Bob', 'Davis', 45000, 2),\n",
    "    (5, 'Charlie', 'Wilson', 70000, 3)\n",
    "])\n",
    "\n",
    "# Commit the changes\n",
    "conn.commit()\n",
    "\n",
    "# Now run the SQL query\n",
    "query = '''\n",
    "SELECT e.employee_id, e.first_name, e.last_name, e.salary, e.department_id\n",
    "FROM employees e\n",
    "WHERE e.salary > (\n",
    "  SELECT AVG(salary)\n",
    "  FROM employees\n",
    "  WHERE department_id = e.department_id\n",
    ")\n",
    "'''\n",
    "\n",
    "# Execute the query and fetch all results\n",
    "result = cursor.execute(query).fetchall()\n",
    "\n",
    "# Print the result\n",
    "for row in result:\n",
    "    print(row)\n",
    "\n",
    "# Close the connection\n",
    "conn.close()\n"
   ]
  },
  {
   "cell_type": "code",
   "execution_count": null,
   "id": "a2293a33-1399-4dfd-91ea-607453fb196f",
   "metadata": {},
   "outputs": [],
   "source": []
  }
 ],
 "metadata": {
  "kernelspec": {
   "display_name": "Python 3 (ipykernel)",
   "language": "python",
   "name": "python3"
  },
  "language_info": {
   "codemirror_mode": {
    "name": "ipython",
    "version": 3
   },
   "file_extension": ".py",
   "mimetype": "text/x-python",
   "name": "python",
   "nbconvert_exporter": "python",
   "pygments_lexer": "ipython3",
   "version": "3.12.7"
  }
 },
 "nbformat": 4,
 "nbformat_minor": 5
}
