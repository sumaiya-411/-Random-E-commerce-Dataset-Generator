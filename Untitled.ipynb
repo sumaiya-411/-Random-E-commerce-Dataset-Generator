{
 "cells": [
  {
   "cell_type": "code",
   "execution_count": null,
   "id": "9b704663-558b-4209-9f24-1299fc7669ed",
   "metadata": {},
   "outputs": [
    {
     "name": "stdout",
     "output_type": "stream",
     "text": [
      "Welcome to Hangman!\n",
      "\n",
      "Remaining attempts: 6\n",
      "_ _ _ _\n"
     ]
    },
    {
     "name": "stdin",
     "output_type": "stream",
     "text": [
      "Guess a letter:  t\n"
     ]
    },
    {
     "name": "stdout",
     "output_type": "stream",
     "text": [
      "Oops! 't' is not in the word.\n",
      "\n",
      "Remaining attempts: 5\n",
      "_ _ _ _\n"
     ]
    },
    {
     "name": "stdin",
     "output_type": "stream",
     "text": [
      "Guess a letter:  a\n"
     ]
    },
    {
     "name": "stdout",
     "output_type": "stream",
     "text": [
      "Good guess! 'a' is in the word.\n",
      "\n",
      "Remaining attempts: 5\n",
      "_ a _ a\n"
     ]
    }
   ],
   "source": [
    "import random\n",
    "\n",
    "def choose_word():\n",
    "    words = [\"python\", \"java\", \"hangman\", \"developer\", \"computer\", \"programming\"]\n",
    "    return random.choice(words)\n",
    "\n",
    "def display_word(word, guessed_letters):\n",
    "    display = [letter if letter in guessed_letters else \"_\" for letter in word]\n",
    "    return \" \".join(display)\n",
    "\n",
    "def hangman():\n",
    "    word = choose_word()\n",
    "    guessed_letters = []\n",
    "    attempts = 6\n",
    "\n",
    "    print(\"Welcome to Hangman!\")\n",
    "    \n",
    "    while attempts > 0:\n",
    "        print(\"\\nRemaining attempts:\", attempts)\n",
    "        print(display_word(word, guessed_letters))\n",
    "        \n",
    "        guess = input(\"Guess a letter: \").lower()\n",
    "        \n",
    "        if len(guess) != 1 or not guess.isalpha():\n",
    "            print(\"Please enter a valid single letter.\")\n",
    "            continue\n",
    "        \n",
    "        if guess in guessed_letters:\n",
    "            print(\"You already guessed that letter!\")\n",
    "            continue\n",
    "        \n",
    "        guessed_letters.append(guess)\n",
    "        \n",
    "        if guess in word:\n",
    "            print(f\"Good guess! '{guess}' is in the word.\")\n",
    "        else:\n",
    "            attempts -= 1\n",
    "            print(f\"Oops! '{guess}' is not in the word.\")\n",
    "        \n",
    "        if all(letter in guessed_letters for letter in word):\n",
    "            print(\"\\nCongratulations! You've guessed the word:\", word)\n",
    "            break\n",
    "    else:\n",
    "        print(\"\\nGame Over! You've run out of attempts. The word was:\", word)\n",
    "\n",
    "# Start the game\n",
    "hangman()\n"
   ]
  },
  {
   "cell_type": "code",
   "execution_count": null,
   "id": "b4b99e1c-d7ca-4717-86f9-fbee4a90b983",
   "metadata": {},
   "outputs": [],
   "source": []
  }
 ],
 "metadata": {
  "kernelspec": {
   "display_name": "Python 3 (ipykernel)",
   "language": "python",
   "name": "python3"
  },
  "language_info": {
   "codemirror_mode": {
    "name": "ipython",
    "version": 3
   },
   "file_extension": ".py",
   "mimetype": "text/x-python",
   "name": "python",
   "nbconvert_exporter": "python",
   "pygments_lexer": "ipython3",
   "version": "3.12.7"
  }
 },
 "nbformat": 4,
 "nbformat_minor": 5
}
