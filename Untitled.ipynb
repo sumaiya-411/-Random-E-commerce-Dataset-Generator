{
 "cells": [
  {
   "cell_type": "code",
   "execution_count": 1,
   "id": "ca98ea95-3e90-4f78-ac69-ed871a0f827c",
   "metadata": {},
   "outputs": [
    {
     "name": "stdout",
     "output_type": "stream",
     "text": [
      "✅ Dataset saved as 'random_ecommerce_data.csv'\n",
      "\n",
      "=== Sample Data ===\n",
      "   CustomerID  Age  Gender  Location  PurchaseAmount Membership  SignupYear\n",
      "0  Customer_1   56  Female   Chicago           68.59       Gold        2021\n",
      "1  Customer_2   69    Male  New York           90.84     Silver        2023\n",
      "2  Customer_3   46    Male   Phoenix           40.68       Gold        2023\n",
      "3  Customer_4   32  Female   Phoenix          147.36      Basic        2023\n",
      "4  Customer_5   60    Male   Houston           11.27     Silver        2022\n"
     ]
    }
   ],
   "source": [
    "import pandas as pd\n",
    "import numpy as np\n",
    "import random\n",
    "\n",
    "# Set seed for reproducibility\n",
    "np.random.seed(42)\n",
    "\n",
    "# Parameters\n",
    "num_rows = 500\n",
    "\n",
    "# Sample data\n",
    "names = [f\"Customer_{i}\" for i in range(1, num_rows + 1)]\n",
    "ages = np.random.randint(18, 70, size=num_rows)\n",
    "genders = np.random.choice(['Male', 'Female'], size=num_rows)\n",
    "locations = np.random.choice(['New York', 'Los Angeles', 'Chicago', 'Houston', 'Phoenix'], size=num_rows)\n",
    "purchase_amount = np.round(np.random.exponential(scale=100, size=num_rows), 2)\n",
    "membership = np.random.choice(['Basic', 'Silver', 'Gold', 'Platinum'], size=num_rows, p=[0.4, 0.3, 0.2, 0.1])\n",
    "signup_year = np.random.choice([2019, 2020, 2021, 2022, 2023], size=num_rows)\n",
    "\n",
    "# Create DataFrame\n",
    "df = pd.DataFrame({\n",
    "    'CustomerID': names,\n",
    "    'Age': ages,\n",
    "    'Gender': genders,\n",
    "    'Location': locations,\n",
    "    'PurchaseAmount': purchase_amount,\n",
    "    'Membership': membership,\n",
    "    'SignupYear': signup_year\n",
    "})\n",
    "\n",
    "# Save to CSV\n",
    "df.to_csv(\"random_ecommerce_data.csv\", index=False)\n",
    "print(\"✅ Dataset saved as 'random_ecommerce_data.csv'\")\n",
    "\n",
    "# Show first few rows\n",
    "print(\"\\n=== Sample Data ===\")\n",
    "print(df.head())\n"
   ]
  },
  {
   "cell_type": "code",
   "execution_count": null,
   "id": "011ec79b-9398-43cb-a391-95ff859c9b78",
   "metadata": {},
   "outputs": [],
   "source": []
  }
 ],
 "metadata": {
  "kernelspec": {
   "display_name": "Python 3 (ipykernel)",
   "language": "python",
   "name": "python3"
  },
  "language_info": {
   "codemirror_mode": {
    "name": "ipython",
    "version": 3
   },
   "file_extension": ".py",
   "mimetype": "text/x-python",
   "name": "python",
   "nbconvert_exporter": "python",
   "pygments_lexer": "ipython3",
   "version": "3.12.7"
  }
 },
 "nbformat": 4,
 "nbformat_minor": 5
}
