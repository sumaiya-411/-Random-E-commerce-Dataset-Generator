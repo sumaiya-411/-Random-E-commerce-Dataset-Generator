{
 "cells": [
  {
   "cell_type": "code",
   "execution_count": 4,
   "id": "4080c22f-89cc-45fc-961f-c76fa9f871c7",
   "metadata": {},
   "outputs": [
    {
     "name": "stdout",
     "output_type": "stream",
     "text": [
      "--- Book Titles ---\n",
      "1. A Light in the Attic\n",
      "2. Tipping the Velvet\n",
      "3. Soumission\n",
      "4. Sharp Objects\n",
      "5. Sapiens: A Brief History of Humankind\n"
     ]
    }
   ],
   "source": [
    "import requests\n",
    "from bs4 import BeautifulSoup\n",
    "\n",
    "# Step 1: Get the webpage\n",
    "url = \"http://books.toscrape.com/\"\n",
    "response = requests.get(url)\n",
    "\n",
    "# Step 2: Parse the HTML\n",
    "soup = BeautifulSoup(response.text, \"html.parser\")\n",
    "\n",
    "# Step 3: Find all book titles (first 5 only)\n",
    "books = soup.find_all(\"h3\")[:5]  # Gets first 5 books\n",
    "\n",
    "# Step 4: Print results\n",
    "print(\"--- Book Titles ---\")\n",
    "for i, book in enumerate(books, 1):\n",
    "    print(f\"{i}. {book.a['title']}\")"
   ]
  },
  {
   "cell_type": "code",
   "execution_count": null,
   "id": "1af04b3e-285d-47dc-a710-c4aaaa46014b",
   "metadata": {},
   "outputs": [],
   "source": []
  }
 ],
 "metadata": {
  "kernelspec": {
   "display_name": "Python 3 (ipykernel)",
   "language": "python",
   "name": "python3"
  },
  "language_info": {
   "codemirror_mode": {
    "name": "ipython",
    "version": 3
   },
   "file_extension": ".py",
   "mimetype": "text/x-python",
   "name": "python",
   "nbconvert_exporter": "python",
   "pygments_lexer": "ipython3",
   "version": "3.12.7"
  }
 },
 "nbformat": 4,
 "nbformat_minor": 5
}
