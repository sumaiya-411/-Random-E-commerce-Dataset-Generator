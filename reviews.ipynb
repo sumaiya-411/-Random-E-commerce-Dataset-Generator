{
 "cells": [
  {
   "cell_type": "code",
   "execution_count": 2,
   "id": "c3c08941-6649-4306-a3b5-775f976e3548",
   "metadata": {},
   "outputs": [
    {
     "name": "stdout",
     "output_type": "stream",
     "text": [
      "Review: \"I love this product, it's amazing!\"\n",
      "Sentiment: Positive\n",
      "\n",
      "Review: \"This was a terrible experience.\"\n",
      "Sentiment: Negative\n",
      "\n",
      "Review: \"Very satisfied with the service.\"\n",
      "Sentiment: Positive\n",
      "\n",
      "Review: \"The quality is bad and I am not happy.\"\n",
      "Sentiment: Neutral\n",
      "\n",
      "Review: \"Excellent support team!\"\n",
      "Sentiment: Positive\n",
      "\n",
      "Review: \"Not what I expected, poor quality.\"\n",
      "Sentiment: Negative\n",
      "\n"
     ]
    }
   ],
   "source": [
    "positive_keywords = ['good', 'great', 'excellent', 'amazing', 'love', 'satisfied', 'happy']\n",
    "negative_keywords = ['bad', 'terrible', 'awful', 'hate', 'poor', 'unsatisfied', 'sad']\n",
    "\n",
    "reviews = [\n",
    "    \"I love this product, it's amazing!\",\n",
    "    \"This was a terrible experience.\",\n",
    "    \"Very satisfied with the service.\",\n",
    "    \"The quality is bad and I am not happy.\",\n",
    "    \"Excellent support team!\",\n",
    "    \"Not what I expected, poor quality.\"\n",
    "]\n",
    "\n",
    "def analyze_sentiment(review):\n",
    "    review_lower = review.lower()\n",
    "    positive_score = sum(1 for word in positive_keywords if word in review_lower)\n",
    "    negative_score = sum(1 for word in negative_keywords if word in review_lower)\n",
    "\n",
    "    if positive_score > negative_score:\n",
    "        return \"Positive\"\n",
    "    elif negative_score > positive_score:\n",
    "        return \"Negative\"\n",
    "    else:\n",
    "        return \"Neutral\"\n",
    "\n",
    "for review in reviews:\n",
    "    sentiment = analyze_sentiment(review)\n",
    "    print(f\"Review: \\\"{review}\\\"\\nSentiment: {sentiment}\\n\")\n"
   ]
  },
  {
   "cell_type": "code",
   "execution_count": null,
   "id": "1d6bc7e4-9d64-4d19-87f6-d93707a3d684",
   "metadata": {},
   "outputs": [],
   "source": []
  }
 ],
 "metadata": {
  "kernelspec": {
   "display_name": "Python 3 (ipykernel)",
   "language": "python",
   "name": "python3"
  },
  "language_info": {
   "codemirror_mode": {
    "name": "ipython",
    "version": 3
   },
   "file_extension": ".py",
   "mimetype": "text/x-python",
   "name": "python",
   "nbconvert_exporter": "python",
   "pygments_lexer": "ipython3",
   "version": "3.12.7"
  }
 },
 "nbformat": 4,
 "nbformat_minor": 5
}
